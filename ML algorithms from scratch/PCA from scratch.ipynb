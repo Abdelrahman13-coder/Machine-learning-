{
 "cells": [
  {
   "cell_type": "markdown",
   "id": "ce66e882",
   "metadata": {},
   "source": [
    "## <a name=\"6\">PCA from Scratch</a>"
   ]
  },
  {
   "cell_type": "code",
   "execution_count": 1,
   "id": "4f979178",
   "metadata": {},
   "outputs": [],
   "source": [
    "import numpy as np\n",
    "import pandas as pd\n",
    "import matplotlib.pyplot as plt\n",
    "%matplotlib inline"
   ]
  },
  {
   "cell_type": "code",
   "execution_count": 2,
   "id": "7bb7cddf",
   "metadata": {},
   "outputs": [],
   "source": [
    "class PCA ():\n",
    "\n",
    "    def __init__(self,n_components):\n",
    "        self.n_components = n_components\n",
    "        if self.n_components > 1:\n",
    "            self.type = 'var'\n",
    "        else:\n",
    "            self.type = 'ratio'\n",
    "\n",
    "    def fit(self,X):\n",
    "        self.variance = np.var(X, axis = 0)\n",
    "        \n",
    "#       1.center the data\n",
    "        self.mean = np.mean(X, axis = 0)\n",
    "        X_new = X - self.mean\n",
    "#       2.calculate the covariance matrix\n",
    "        \"\"\"\n",
    "        numpy.cov(m, y=None,\n",
    "                     rowvar=True, bias=False,\n",
    "                     ddof=None, fweights=None,\n",
    "                     aweights=None, *, dtype=None)\n",
    "        \n",
    "        A 1-D or 2-D array containing multiple variables and observations.\n",
    "        Each row of m represents a variable, and each \n",
    "        column a single observation of all those variables. \n",
    "        Also see rowvar below.\n",
    "        \"\"\"\n",
    "        cov = np.cov(X_new.T)\n",
    "#       3.calculate eigenvalues of the covariance matrix\n",
    "#       4.calculate eigenvectors of the covariance matrix\n",
    "        eigenvalues, eigenvectors = np.linalg.eig(cov)\n",
    "#       5.Order the eigenvectors\n",
    "        \"\"\"\n",
    "        argsort :returns the index of the sorted array\n",
    "        \"\"\"\n",
    "        index = np.argsort(eigenvalues)[::-1]\n",
    "        eigenvalues = eigenvalues.T\n",
    "        #print(eigenvalues)\n",
    "        eigenvalues = eigenvalues[index]\n",
    "        #eigenvectors = eigenvectors[: , index]\n",
    "        eigenvectors = eigenvectors[index].T\n",
    "        #normalize eigenvalues\n",
    "        eigenvalues = eigenvalues/np.sum(eigenvalues)\n",
    "        #eigenvalues = np.round(eigenvalues/ np.sum(eigenvalues), 2)\n",
    "        #print(eigenvalues)\n",
    "#       6.calculate principle components\n",
    "\n",
    "        if (self.n_components <=1):\n",
    "            self.cumulative_sum = eigenvalues.cumsum()\n",
    "            #print(self.cumulative_sum)\n",
    "            #get the index at which the cumulative sum exceeded n_components\n",
    "            self.ratio_index = np.where(self.cumulative_sum >=  self.n_components)[0][1]\n",
    "            self.components = eigenvectors[:,0:self.ratio_index]\n",
    "            #print(self.components)\n",
    "            #print(\"eigenvalues\",eigenvalues)\n",
    "            self.explained_variance = eigenvalues[0:self.ratio_index]\n",
    "            #print(\"explained variance\", self.explained_variance)\n",
    "        else:\n",
    "            self.components = eigenvectors[:,0:self.n_components]\n",
    "            self.cumulative_sum = eigenvalues.cumsum()\n",
    "            self.ratio_index = self.n_components\n",
    "        \n",
    "        # self.components = #matrix (n,)\n",
    "        return X_new\n",
    "\n",
    "    def transform(self,Z):\n",
    "        Z_new = Z - self.mean \n",
    "        Z_new = np.dot(Z_new,self.components)\n",
    "\n",
    "        return Z_new\n",
    "\n",
    "    #optional \n",
    "    def plot_explained_variance(self):\n",
    "        plt.bar(np.arange(self.ratio_index), self.cumulative_sum[0:self.ratio_index])\n",
    "        plt.axhline(self.cumulative_sum[self.ratio_index-1], color = 'red', ls = \"dotted\")\n",
    "        plt.xlabel(\"Cumulative Index\")\n",
    "        plt.ylabel(\"Threshold\")\n",
    "        plt.title(\"Explained variance Plot\")\n",
    "        plt.show()"
   ]
  },
  {
   "cell_type": "code",
   "execution_count": 3,
   "id": "3741b0f1",
   "metadata": {},
   "outputs": [
    {
     "name": "stdout",
     "output_type": "stream",
     "text": [
      "[0.43153415 0.16003835 0.12774915 0.10458295 0.09506252 0.04183003]\n"
     ]
    }
   ],
   "source": [
    "df = pd.read_csv('Clean_data.csv')\n",
    "X = df.to_numpy()\n",
    "pca_section = PCA(n_components=0.95)\n",
    "X_transofmed = pca_section.fit(X)\n",
    "X_transofmed = pca_section.transform(X)\n",
    "pca_section.components #return matrix (n,4)\n",
    "print(pca_section.explained_variance)#return list len = 4"
   ]
  },
  {
   "cell_type": "code",
   "execution_count": 4,
   "id": "15735b25",
   "metadata": {},
   "outputs": [
    {
     "data": {
      "image/png": "[encoded data removed]",
      "text/plain": [
       "<Figure size 432x288 with 1 Axes>"
      ]
     },
     "metadata": {
      "needs_background": "light"
     },
     "output_type": "display_data"
    }
   ],
   "source": [
    "pca_section.plot_explained_variance()"
   ]
  },
  {
   "cell_type": "markdown",
   "id": "070b6a1b",
   "metadata": {},
   "source": [
    "## <a name=\"6\">PCA using Sklearn</a>"
   ]
  },
  {
   "cell_type": "code",
   "execution_count": 5,
   "id": "bcf34f51",
   "metadata": {},
   "outputs": [
    {
     "name": "stdout",
     "output_type": "stream",
     "text": [
      "[0.43153415 0.16003835 0.12774915 0.10458295 0.09506252 0.04183003]\n"
     ]
    }
   ],
   "source": [
    "from sklearn.decomposition import PCA\n",
    "pca = PCA(n_components=0.95)\n",
    "pca.fit(X)\n",
    "PCA(n_components=0.95)\n",
    "print(pca.explained_variance_ratio_)\n",
    "cumulative_sum = pca.explained_variance_.cumsum()\n",
    "index_ratio = 6"
   ]
  },
  {
   "cell_type": "code",
   "execution_count": 6,
   "id": "51c49b60",
   "metadata": {},
   "outputs": [
    {
     "data": {
      "image/png": "[encoded data removed]",
      "text/plain": [
       "<Figure size 432x288 with 1 Axes>"
      ]
     },
     "metadata": {
      "needs_background": "light"
     },
     "output_type": "display_data"
    }
   ],
   "source": [
    "plt.bar( np.arange(index_ratio) , cumulative_sum[0:index_ratio])\n",
    "plt.axhline(cumulative_sum[index_ratio-1], color='red', ls='dotted')\n",
    "plt.xlabel(\"Cumlative index\")\n",
    "plt.ylabel(\"Threshold\")\n",
    "plt.title(\"Explained variance Plot\")\n",
    "plt.show()"
   ]
  }
 ],
 "metadata": {
  "kernelspec": {
   "display_name": "Python 3 (ipykernel)",
   "language": "python",
   "name": "python3"
  },
  "language_info": {
   "codemirror_mode": {
    "name": "ipython",
    "version": 3
   },
   "file_extension": ".py",
   "mimetype": "text/x-python",
   "name": "python",
   "nbconvert_exporter": "python",
   "pygments_lexer": "ipython3",
   "version": "3.9.12"
  }
 },
 "nbformat": 4,
 "nbformat_minor": 5
}
